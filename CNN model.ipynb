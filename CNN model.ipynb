version https://git-lfs.github.com/spec/v1
oid sha256:271cbf68de81ab6e675af249ed2f6a0575daef90d3e15c5c09881dd859c481eb
size 110368
